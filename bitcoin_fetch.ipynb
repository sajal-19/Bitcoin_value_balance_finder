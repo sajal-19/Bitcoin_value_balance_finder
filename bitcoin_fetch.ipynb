{
 "cells": [
  {
   "attachments": {},
   "cell_type": "markdown",
   "metadata": {},
   "source": [
    "Importing the required libraries"
   ]
  },
  {
   "cell_type": "code",
   "execution_count": 10,
   "metadata": {},
   "outputs": [],
   "source": [
    "import requests\n",
    "import openpyxl\n",
    "import datetime\n",
    "import pandas as pd"
   ]
  },
  {
   "attachments": {},
   "cell_type": "markdown",
   "metadata": {},
   "source": [
    " All info about key ,address ,currency"
   ]
  },
  {
   "cell_type": "code",
   "execution_count": 11,
   "metadata": {},
   "outputs": [],
   "source": [
    "API_KEY=\"4a4497b6-7be7-4149-a825-ea7496601576\"\n",
    "address_list = [\"34xp4vRoCGJym3xR7yCVPFHoCNxv4Twseo\", \"3JJmF63ifcamPLiAmLgG96RA599yNtY3EQ\"], \"1LQoWist8KkaUXSPKZHNvEyfrEkPHzSsCd\"  \n",
    "fiat_currency = \"USD\" # fiat currency for price conversion\n"
   ]
  },
  {
   "attachments": {},
   "cell_type": "markdown",
   "metadata": {},
   "source": [
    "Fetching current Bitcoin price in USD from Blockchain.info API"
   ]
  },
  {
   "cell_type": "code",
   "execution_count": 12,
   "metadata": {},
   "outputs": [],
   "source": [
    "bc_url = f\"https://blockchain.info/ticker\"\n",
    "bc_response = requests.get(bc_url)\n",
    "bc_data = bc_response.json()\n",
    "btc_usd_price = bc_data[fiat_currency][\"15m\"]"
   ]
  },
  {
   "attachments": {},
   "cell_type": "markdown",
   "metadata": {},
   "source": [
    "Creating a new workbook with timestamp title"
   ]
  },
  {
   "cell_type": "code",
   "execution_count": 13,
   "metadata": {},
   "outputs": [],
   "source": [
    "timestamp = datetime.datetime.now().strftime(\"%Y-%m-%d %H-%M-%S\")\n",
    "wb = openpyxl.Workbook()\n",
    "sheet = wb.active\n",
    "sheet.title = timestamp"
   ]
  },
  {
   "attachments": {},
   "cell_type": "markdown",
   "metadata": {},
   "source": [
    "Adding headers to the sheet"
   ]
  },
  {
   "cell_type": "code",
   "execution_count": 14,
   "metadata": {},
   "outputs": [
    {
     "data": {
      "text/plain": [
       "<Cell '2023-05-07 17-17-01'.C1>"
      ]
     },
     "execution_count": 14,
     "metadata": {},
     "output_type": "execute_result"
    }
   ],
   "source": [
    "sheet.cell(row=1, column=1, value=\"Address\")\n",
    "sheet.cell(row=1, column=2, value=\"Balance\")\n",
    "sheet.cell(row=1, column=3, value=\"Value in USD\")"
   ]
  },
  {
   "attachments": {},
   "cell_type": "markdown",
   "metadata": {},
   "source": [
    "Fetching balances of each address and print to the console and sheet"
   ]
  },
  {
   "cell_type": "code",
   "execution_count": null,
   "metadata": {},
   "outputs": [],
   "source": [
    "row = 2 # start writing data from row 2\n",
    "for address in address_list:\n",
    "    url = f\"https://blockchain.info/rawaddr/{address}?api_code={API_KEY}\"\n",
    "    response = requests.get(url)\n",
    "    data = response.json()\n",
    "    balance = data[\"final_balance\"] / 100000000\n",
    "    value_usd = balance * btc_usd_price # calculate value in USD\n",
    "    print(f\"Balance of {address}: {balance} BTC\")\n",
    "    print(f\"Value in USD: ${value_usd}\")\n",
    "    sheet.cell(row=row, column=1, value=address)\n",
    "    sheet.cell(row=row, column=2, value=balance)\n",
    "    sheet.cell(row=row, column=3, value=value_usd)\n",
    "    row += 1"
   ]
  },
  {
   "attachments": {},
   "cell_type": "markdown",
   "metadata": {},
   "source": [
    "Saving the workbook to a new file"
   ]
  },
  {
   "cell_type": "code",
   "execution_count": null,
   "metadata": {},
   "outputs": [],
   "source": [
    "wb.save(f\"{timestamp}.xlsx\")"
   ]
  }
 ],
 "metadata": {
  "kernelspec": {
   "display_name": "Python 3",
   "language": "python",
   "name": "python3"
  },
  "language_info": {
   "codemirror_mode": {
    "name": "ipython",
    "version": 3
   },
   "file_extension": ".py",
   "mimetype": "text/x-python",
   "name": "python",
   "nbconvert_exporter": "python",
   "pygments_lexer": "ipython3",
   "version": "3.11.3"
  },
  "orig_nbformat": 4
 },
 "nbformat": 4,
 "nbformat_minor": 2
}
